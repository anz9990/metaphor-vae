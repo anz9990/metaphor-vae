{
 "cells": [
  {
   "cell_type": "code",
   "execution_count": 1,
   "metadata": {},
   "outputs": [],
   "source": [
    "%reload_ext autoreload\n",
    "%autoreload 2\n",
    "%matplotlib inline"
   ]
  },
  {
   "cell_type": "code",
   "execution_count": 2,
   "metadata": {},
   "outputs": [
    {
     "name": "stderr",
     "output_type": "stream",
     "text": [
      "/home/paperspace/projects/jadlg_rnn/lib/python3.6/site-packages/sklearn/ensemble/weight_boosting.py:29: DeprecationWarning: numpy.core.umath_tests is an internal NumPy module and should not be imported. It will be removed in a future NumPy release.\n",
      "  from numpy.core.umath_tests import inner1d\n"
     ]
    }
   ],
   "source": [
    "from fastai.text import *"
   ]
  },
  {
   "cell_type": "code",
   "execution_count": 5,
   "metadata": {},
   "outputs": [],
   "source": [
    "path = Path('../data/')"
   ]
  },
  {
   "cell_type": "code",
   "execution_count": 6,
   "metadata": {},
   "outputs": [
    {
     "data": {
      "text/html": [
       "<div>\n",
       "<style scoped>\n",
       "    .dataframe tbody tr th:only-of-type {\n",
       "        vertical-align: middle;\n",
       "    }\n",
       "\n",
       "    .dataframe tbody tr th {\n",
       "        vertical-align: top;\n",
       "    }\n",
       "\n",
       "    .dataframe thead th {\n",
       "        text-align: right;\n",
       "    }\n",
       "</style>\n",
       "<table border=\"1\" class=\"dataframe\">\n",
       "  <thead>\n",
       "    <tr style=\"text-align: right;\">\n",
       "      <th></th>\n",
       "      <th>work_id</th>\n",
       "      <th>text</th>\n",
       "      <th>dictionary</th>\n",
       "      <th>context</th>\n",
       "      <th>provenance</th>\n",
       "      <th>comments</th>\n",
       "      <th>updated_at</th>\n",
       "      <th>created_at</th>\n",
       "      <th>theme</th>\n",
       "      <th>id</th>\n",
       "      <th>reviewed_on</th>\n",
       "      <th>metaphor</th>\n",
       "    </tr>\n",
       "  </thead>\n",
       "  <tbody>\n",
       "    <tr>\n",
       "      <th>0</th>\n",
       "      <td>3213.0</td>\n",
       "      <td>Logitians use to clap a Proposition,&lt;br&gt;\\r\\n A...</td>\n",
       "      <td>Animals</td>\n",
       "      <td>NaN</td>\n",
       "      <td>Searching \"rule\" and \"reason\" in HDIS (Poetry)</td>\n",
       "      <td>In this case, not fish-trap as I originally th...</td>\n",
       "      <td>2013-10-04 14:27:45 UTC</td>\n",
       "      <td>2004-06-10 00:00:00 UTC</td>\n",
       "      <td>NaN</td>\n",
       "      <td>8442</td>\n",
       "      <td>2011-06-14</td>\n",
       "      <td>A Logician is \"one, that has been broke / To R...</td>\n",
       "    </tr>\n",
       "    <tr>\n",
       "      <th>1</th>\n",
       "      <td>3323.0</td>\n",
       "      <td>What raisd their Joy their love coud also rais...</td>\n",
       "      <td>Impression</td>\n",
       "      <td>I've included the entire poem</td>\n",
       "      <td>Searching \"soul\" and \"impression\" in HDIS (Poe...</td>\n",
       "      <td>NaN</td>\n",
       "      <td>2009-09-14 19:33:39 UTC</td>\n",
       "      <td>2005-05-17 00:00:00 UTC</td>\n",
       "      <td>NaN</td>\n",
       "      <td>8591</td>\n",
       "      <td>NaN</td>\n",
       "      <td>\"Deep in their soules ye fair impression lay, ...</td>\n",
       "    </tr>\n",
       "    <tr>\n",
       "      <th>2</th>\n",
       "      <td>3324.0</td>\n",
       "      <td>&lt;b&gt;If at the type our dreaming soules awake,&lt;B...</td>\n",
       "      <td>Impression</td>\n",
       "      <td>I've included the entire poem</td>\n",
       "      <td>Searching \"soul\" and \"impression\" in HDIS (Poe...</td>\n",
       "      <td>&lt;BR&gt;</td>\n",
       "      <td>2009-09-14 19:33:39 UTC</td>\n",
       "      <td>2005-05-17 00:00:00 UTC</td>\n",
       "      <td>NaN</td>\n",
       "      <td>8592</td>\n",
       "      <td>NaN</td>\n",
       "      <td>\"If at the type our dreaming soules awake, / &amp;...</td>\n",
       "    </tr>\n",
       "    <tr>\n",
       "      <th>3</th>\n",
       "      <td>3407.0</td>\n",
       "      <td>In all mistakes, The Strickt, and Regular,&lt;BR&gt;...</td>\n",
       "      <td>NaN</td>\n",
       "      <td>NaN</td>\n",
       "      <td>Searching \"mind\" and \"clock\" in HDIS (Poetry)</td>\n",
       "      <td>NaN</td>\n",
       "      <td>2009-09-14 19:33:43 UTC</td>\n",
       "      <td>2006-11-16 00:00:00 UTC</td>\n",
       "      <td>NaN</td>\n",
       "      <td>8698</td>\n",
       "      <td>NaN</td>\n",
       "      <td>\"As no Man mind's those Clocks that use to go ...</td>\n",
       "    </tr>\n",
       "    <tr>\n",
       "      <th>4</th>\n",
       "      <td>5026.0</td>\n",
       "      <td>\"Edward, lo! to sudden fate &lt;BR&gt;\"(Weave we the...</td>\n",
       "      <td>Inhabitants</td>\n",
       "      <td>NaN</td>\n",
       "      <td>HDIS</td>\n",
       "      <td>NaN</td>\n",
       "      <td>2009-09-14 19:38:37 UTC</td>\n",
       "      <td>2003-11-11 00:00:00 UTC</td>\n",
       "      <td>NaN</td>\n",
       "      <td>13518</td>\n",
       "      <td>NaN</td>\n",
       "      <td>Unborn ages may crowd on the soul</td>\n",
       "    </tr>\n",
       "  </tbody>\n",
       "</table>\n",
       "</div>"
      ],
      "text/plain": [
       "   work_id                                               text   dictionary  \\\n",
       "0   3213.0  Logitians use to clap a Proposition,<br>\\r\\n A...      Animals   \n",
       "1   3323.0  What raisd their Joy their love coud also rais...   Impression   \n",
       "2   3324.0  <b>If at the type our dreaming soules awake,<B...   Impression   \n",
       "3   3407.0  In all mistakes, The Strickt, and Regular,<BR>...          NaN   \n",
       "4   5026.0  \"Edward, lo! to sudden fate <BR>\"(Weave we the...  Inhabitants   \n",
       "\n",
       "                         context  \\\n",
       "0                            NaN   \n",
       "1  I've included the entire poem   \n",
       "2  I've included the entire poem   \n",
       "3                            NaN   \n",
       "4                            NaN   \n",
       "\n",
       "                                          provenance  \\\n",
       "0     Searching \"rule\" and \"reason\" in HDIS (Poetry)   \n",
       "1  Searching \"soul\" and \"impression\" in HDIS (Poe...   \n",
       "2  Searching \"soul\" and \"impression\" in HDIS (Poe...   \n",
       "3      Searching \"mind\" and \"clock\" in HDIS (Poetry)   \n",
       "4                                               HDIS   \n",
       "\n",
       "                                            comments               updated_at  \\\n",
       "0  In this case, not fish-trap as I originally th...  2013-10-04 14:27:45 UTC   \n",
       "1                                                NaN  2009-09-14 19:33:39 UTC   \n",
       "2                                               <BR>  2009-09-14 19:33:39 UTC   \n",
       "3                                                NaN  2009-09-14 19:33:43 UTC   \n",
       "4                                                NaN  2009-09-14 19:38:37 UTC   \n",
       "\n",
       "                created_at theme     id reviewed_on  \\\n",
       "0  2004-06-10 00:00:00 UTC   NaN   8442  2011-06-14   \n",
       "1  2005-05-17 00:00:00 UTC   NaN   8591         NaN   \n",
       "2  2005-05-17 00:00:00 UTC   NaN   8592         NaN   \n",
       "3  2006-11-16 00:00:00 UTC   NaN   8698         NaN   \n",
       "4  2003-11-11 00:00:00 UTC   NaN  13518         NaN   \n",
       "\n",
       "                                            metaphor  \n",
       "0  A Logician is \"one, that has been broke / To R...  \n",
       "1  \"Deep in their soules ye fair impression lay, ...  \n",
       "2  \"If at the type our dreaming soules awake, / &...  \n",
       "3  \"As no Man mind's those Clocks that use to go ...  \n",
       "4                  Unborn ages may crowd on the soul  "
      ]
     },
     "execution_count": 6,
     "metadata": {},
     "output_type": "execute_result"
    }
   ],
   "source": [
    "df = pd.read_csv(path/'all.csv')\n",
    "df.head()"
   ]
  },
  {
   "cell_type": "code",
   "execution_count": 7,
   "metadata": {},
   "outputs": [],
   "source": [
    "text = df['text'].astype(str)\n",
    "metaphor = df['metaphor'].astype(str)\n",
    "text = [t.lower().replace('\\r','').replace('/','').replace('\"','').replace(\"'\",\"\").replace(\"\\n\",\"\").replace('<br>','').replace('<i>','').replace('--','') for t in text]\n",
    "metaphor = [t.lower().replace('\\r','').replace('/','').replace('\"','').replace(\"'\",\"\").replace(\"\\n\",\"\").replace('<br>','').replace('<i>','').replace('--','') for t in metaphor]"
   ]
  },
  {
   "cell_type": "code",
   "execution_count": 8,
   "metadata": {},
   "outputs": [],
   "source": [
    "#text[:-3]"
   ]
  },
  {
   "cell_type": "code",
   "execution_count": 9,
   "metadata": {},
   "outputs": [],
   "source": [
    "c0, c1 = [],[]\n",
    "\n",
    "for i in range(len(text)):\n",
    "    text[i] = re.sub('\\x0b','',text[i])\n",
    "    t = re.sub('<b>.*<b>',' xxmsk ',text[i]).split(' xxmsk ')\n",
    "    c0.append(t[0])\n",
    "    if len(t) > 1:  c1.append(t[1])\n",
    "    else: c1.append('')\n",
    "    #text[i] = re.sub('<.*>','',text[i])\n",
    "    #metaphor[i] = re.sub('<.*>','',metaphor[i])\n",
    "    #text[i] = re.sub('\\x0b','',text[i])\n",
    "    metaphor[i] = re.sub('\\x0b','',metaphor[i])\n",
    "    #text[i].replace('.(p','')\n",
    "    #text[i].replace(' ','')\n",
    "    #text[i].replace('.(pp','')\n",
    "    \n",
    "    #metaphor[i] = re.sub('(.*)','',metaphor[i])"
   ]
  },
  {
   "cell_type": "code",
   "execution_count": 10,
   "metadata": {},
   "outputs": [
    {
     "data": {
      "text/plain": [
       "('the verse adorn again fierce war and faithful love, and truth severe, by fairy fiction dressed. in buskined measures move pale grief and pleasing pain, with ',\n",
       " '.a voice as of the cherub-choir gales from blooming eden bear; and distant warblings lessen on my ear, that lost in long futurity expire. fond impious man, thinkst thou yon sanguine cloud, raised by thy breath, has quenched the orb of day? tomorrow he repairs the golden flood, and warms the nations with redoubled ray. enough for me: with joy i see the different doom our fates assign. be thine despair and sceptered care; to triumph, and to die, are mine. he spoke, and headlong from the mountains height deep in the roaring tide he plunged to endless night. (ll. 125-44, pp. 198-200)',\n",
       " 'horror may be a tyrant of the throbbing breast')"
      ]
     },
     "execution_count": 10,
     "metadata": {},
     "output_type": "execute_result"
    }
   ],
   "source": [
    "c0[5],c1[5],metaphor[5]"
   ]
  },
  {
   "cell_type": "code",
   "execution_count": 11,
   "metadata": {},
   "outputs": [
    {
     "data": {
      "text/plain": [
       "14957"
      ]
     },
     "execution_count": 11,
     "metadata": {},
     "output_type": "execute_result"
    }
   ],
   "source": [
    "tok_c0 = Tokenizer.proc_all(c0,lang='en')\n",
    "tok_c1 = Tokenizer.proc_all(c1,lang='en')\n",
    "tok_tgt = Tokenizer.proc_all(metaphor,lang='en')\n",
    "len(tok_tgt)"
   ]
  },
  {
   "cell_type": "code",
   "execution_count": 15,
   "metadata": {
    "scrolled": true
   },
   "outputs": [],
   "source": [
    "#tok_src[0], tok_tgt[0]"
   ]
  },
  {
   "cell_type": "code",
   "execution_count": 9,
   "metadata": {},
   "outputs": [],
   "source": [
    "#tokenizer = Tokenizer()"
   ]
  },
  {
   "cell_type": "code",
   "execution_count": 10,
   "metadata": {},
   "outputs": [],
   "source": [
    "#def mask_sequences(texts):\n",
    "#    masked_text = []\n",
    "#    for text in texts:\n",
    "#        for token in tokenizer.tok(text):\n",
    "#            if token.pos_ == 'VERB' and not token.is_stop:\n",
    "#                text = text.replace(str(token),' xxmsk ')\n",
    "#        masked_text.append(text)\n",
    "#    return masked_text"
   ]
  },
  {
   "cell_type": "code",
   "execution_count": 11,
   "metadata": {},
   "outputs": [],
   "source": [
    "#masked_metaphor = mask_sequences(metaphor)\n",
    "#masked_metaphor[:10]"
   ]
  },
  {
   "cell_type": "code",
   "execution_count": 12,
   "metadata": {},
   "outputs": [],
   "source": [
    "#masked_metaphor = [text.replace(' xxmsk ','xxmsk') for text in masked_metaphor]\n",
    "#masked_metaphor[:10]"
   ]
  },
  {
   "cell_type": "code",
   "execution_count": 13,
   "metadata": {},
   "outputs": [],
   "source": [
    "#pickle.dump(masked_metaphor, open(path/'metaphors_masked.pkl','wb'))"
   ]
  },
  {
   "cell_type": "code",
   "execution_count": 14,
   "metadata": {},
   "outputs": [],
   "source": [
    "#masked_metaphor = pickle.load(open(path/'metaphors_masked.pkl','rb'))\n",
    "#len(masked_metaphor)"
   ]
  },
  {
   "cell_type": "code",
   "execution_count": null,
   "metadata": {},
   "outputs": [],
   "source": []
  },
  {
   "cell_type": "code",
   "execution_count": 12,
   "metadata": {},
   "outputs": [],
   "source": [
    "import collections\n",
    "\n",
    "def toks2ids(tok, pre,is_src=True,ovrt=False):\n",
    "    if ovrt:\n",
    "        freq = collections.Counter(p for o in tok for p in o)\n",
    "        itos = [o for o,c in freq.most_common(20000)]\n",
    "        itos.insert(0, 'xxunk')\n",
    "        itos.insert(1, 'xxpad')\n",
    "        itos.insert(2, 'xxbos')\n",
    "        #itos.insert(3, 'xxmsk')\n",
    "        stoi = collections.defaultdict(lambda: 0, {v:k for k,v in enumerate(itos)})\n",
    "        pickle.dump(itos, open(path/f'{pre}_itos.pkl', 'wb'))\n",
    "    else: \n",
    "        itos = pickle.load(open(path/f'{pre}_itos.pkl', 'rb'))\n",
    "        stoi = collections.defaultdict(lambda: 0, {v:k for k,v in enumerate(itos)})\n",
    "    return itos,stoi"
   ]
  },
  {
   "cell_type": "code",
   "execution_count": 17,
   "metadata": {},
   "outputs": [],
   "source": [
    "#tok_src = Tokenizer.proc_all(masked_metaphor,lang='en')\n",
    "#tok_tgt = Tokenizer.proc_all(metaphor,lang='en')\n",
    "#len(tok_src), len(tok_tgt)"
   ]
  },
  {
   "cell_type": "code",
   "execution_count": 13,
   "metadata": {},
   "outputs": [
    {
     "data": {
      "text/plain": [
       "(20003, 14957, 14957)"
      ]
     },
     "execution_count": 13,
     "metadata": {},
     "output_type": "execute_result"
    }
   ],
   "source": [
    "itos,stoi = toks2ids(tok_c0+tok_c1+tok_tgt,'metaphors',ovrt=True)\n",
    "#itos,stoi = toks2ids(tok_tgt,'metaphors',ovrt=False)\n",
    "c0_ids = np.array([[2]+[stoi[o] for o in p] for p in tok_c0])\n",
    "c1_ids = np.array([[2]+[stoi[o] for o in p] for p in tok_c1])\n",
    "tgt_ids = np.array([[2]+[stoi[o] for o in p] for p in tok_tgt])\n",
    "len(itos),len(c0_ids),len(tgt_ids)"
   ]
  },
  {
   "cell_type": "code",
   "execution_count": 14,
   "metadata": {
    "scrolled": true
   },
   "outputs": [],
   "source": [
    "#c0_ids[0], tgt_ids[0]"
   ]
  },
  {
   "cell_type": "code",
   "execution_count": 15,
   "metadata": {},
   "outputs": [],
   "source": [
    "trn_c0,val_c0,trn_c1,val_c1,trn_tgt,val_tgt = sklearn.model_selection.train_test_split(c0_ids,c1_ids,tgt_ids,test_size=0.1,shuffle=False)"
   ]
  },
  {
   "cell_type": "code",
   "execution_count": 16,
   "metadata": {},
   "outputs": [
    {
     "data": {
      "text/plain": [
       "(13461, 13461, 1496, 1496)"
      ]
     },
     "execution_count": 16,
     "metadata": {},
     "output_type": "execute_result"
    }
   ],
   "source": [
    "len(trn_c0), len(trn_tgt), len(val_c0), len(val_tgt)"
   ]
  },
  {
   "cell_type": "code",
   "execution_count": 17,
   "metadata": {},
   "outputs": [],
   "source": [
    "#trn_c0[:2], trn_c1[:2],trn_tgt[:2]"
   ]
  },
  {
   "cell_type": "code",
   "execution_count": 18,
   "metadata": {},
   "outputs": [],
   "source": [
    "import io\n",
    "\n",
    "def load_vectors(fname):\n",
    "    fin = io.open(fname, 'r', encoding='utf-8', newline='\\n', errors='ignore')\n",
    "    header = fin.readline().split()\n",
    "    n, d = header[0], header[1]\n",
    "    data = {}\n",
    "    #partitions = [fin[:]]\n",
    "    for line in fin:\n",
    "        tokens = line.rstrip().split(' ')\n",
    "        data[tokens[0]] = np.array(tokens[1:], dtype=float)\n",
    "    return data, n, d"
   ]
  },
  {
   "cell_type": "code",
   "execution_count": 19,
   "metadata": {},
   "outputs": [],
   "source": [
    "en_vecs, vs, dim_en_vec = load_vectors('/home/paperspace/projects/seq2seq_bot/data/wiki-news-300d-1M.vec')"
   ]
  },
  {
   "cell_type": "code",
   "execution_count": 22,
   "metadata": {},
   "outputs": [],
   "source": [
    "class MaskDataset(Dataset):\n",
    "    def __init__(self, c0, c1,tgt):\n",
    "        self.c0 = c0\n",
    "        self.c1 = c1\n",
    "        self.tgt = tgt\n",
    "        self.ml = 100\n",
    "    def __getitem__(self, idx):\n",
    "        return A(self.c0[idx][-self.ml:]), A(self.c1[idx][-self.ml:]), A(self.tgt[idx][-self.ml:]),A(self.tgt[idx][-self.ml:])\n",
    "    def __len__(self): return len(self.src)"
   ]
  },
  {
   "cell_type": "code",
   "execution_count": 23,
   "metadata": {},
   "outputs": [],
   "source": [
    "trn_seq2seq_ds = MaskDataset(trn_c0,trn_c1,trn_tgt)\n",
    "val_seq2seq_ds = MaskDataset(val_c0,val_c1,val_tgt)"
   ]
  },
  {
   "cell_type": "code",
   "execution_count": 24,
   "metadata": {},
   "outputs": [],
   "source": [
    "bs=64\n",
    "\n",
    "trn_samp = SortishSampler(trn_c0, lambda x: len(trn_c0[x]), bs)\n",
    "val_samp = SortSampler(val_c0, lambda x: len(val_c0[x]))\n",
    "\n",
    "trn_seq2seq_dl = DataLoader(trn_seq2seq_ds,batch_size=bs,pad_idx=1,num_workers=1,pre_pad=False, transpose_y=True, transpose=True, sampler=trn_samp)\n",
    "val_seq2seq_dl = DataLoader(val_seq2seq_ds,batch_size=bs,pad_idx=1,num_workers=1,pre_pad=False, transpose_y=True, transpose=True, sampler=val_samp)"
   ]
  },
  {
   "cell_type": "code",
   "execution_count": 25,
   "metadata": {},
   "outputs": [
    {
     "data": {
      "text/plain": [
       "(torch.Size([100, 64]),\n",
       " torch.Size([100, 64]),\n",
       " torch.Size([64, 100]),\n",
       " torch.Size([64, 100]))"
      ]
     },
     "execution_count": 25,
     "metadata": {},
     "output_type": "execute_result"
    }
   ],
   "source": [
    "c0, c1, x, y = next(iter(trn_seq2seq_dl))\n",
    "c0.size(), c1.size(), x.size(), y.size()"
   ]
  },
  {
   "cell_type": "code",
   "execution_count": 26,
   "metadata": {},
   "outputs": [],
   "source": [
    "md = ModelData(path, trn_seq2seq_dl, val_seq2seq_dl)"
   ]
  },
  {
   "cell_type": "code",
   "execution_count": 27,
   "metadata": {},
   "outputs": [],
   "source": [
    "def rand_t(*sz): return torch.randn(sz)/math.sqrt(sz[0])\n",
    "def rand_p(*sz): return nn.Parameter(rand_t(*sz))"
   ]
  },
  {
   "cell_type": "code",
   "execution_count": 28,
   "metadata": {},
   "outputs": [],
   "source": [
    "def seq2seq_loss(input, target, kld_weight=0):\n",
    "    decoded = input\n",
    "    sl, bs = target.size()\n",
    "    sl_in,bs_in,nc = decoded.size()\n",
    "    if sl>sl_in: decoded = F.pad(decoded, (0,0,0,0,0,sl-sl_in))\n",
    "    decoded = decoded[:sl]\n",
    "    return F.cross_entropy(decoded.view(-1,nc), target.view(-1))"
   ]
  },
  {
   "cell_type": "code",
   "execution_count": 29,
   "metadata": {},
   "outputs": [],
   "source": [
    "def create_emb(vecs, itos, em_sz):\n",
    "    emb = nn.Embedding(len(itos), em_sz, padding_idx=1)\n",
    "    wgts = emb.weight.data\n",
    "    miss = []\n",
    "    for i,w in enumerate(itos):\n",
    "        try: wgts[i] = torch.from_numpy(vecs[w])\n",
    "        except: miss.append(w)\n",
    "    print(len(miss),miss[5:10])\n",
    "    return emb"
   ]
  },
  {
   "cell_type": "code",
   "execution_count": 151,
   "metadata": {},
   "outputs": [],
   "source": [
    "class VAE(nn.Module):\n",
    "    def __init__(self,vs,vecs,itos,em_sz,latent_sz,nh,nl=2, dropf=1,wdrop=0,kld_weight=1e-3):\n",
    "        super().__init__()\n",
    "        self.initrange=0.1\n",
    "        self.wdrop,self.kld_weight = wdrop,kld_weight\n",
    "        self.nl,self.nh, self.vs,self.em_sz,self.latent_sz = nl,nh,vs,em_sz,latent_sz\n",
    "        #encoder\n",
    "        self.emb_enc = create_emb(vecs,itos,em_sz)\n",
    "        self.emb_enc_drop = nn.Dropout(0.15*dropf)\n",
    "        self.gru_enc = nn.GRU(em_sz, nh, num_layers=nl, dropout=0.25*dropf, bidirectional=True)\n",
    "        self.out_drop = nn.Dropout(0.35*dropf)\n",
    "        #latent space layers\n",
    "        self.h2m = nn.Linear(nh*nl*2*3, latent_sz)\n",
    "        self.h2m.weight.data.uniform_(-self.initrange, self.initrange)\n",
    "        self.h2log = nn.Linear(nh*nl*2*3, latent_sz)\n",
    "        self.h2log.weight.data.uniform_(-self.initrange, self.initrange)\n",
    "        self.z2h = nn.Linear(latent_sz, nh*nl*2*3)\n",
    "        #self.z2h.weight.data.uniform_(-self.initrange, self.initrange)\n",
    "        #decoder\n",
    "        self.gru_dec = nn.GRU(em_sz+latent_sz, nh*2*3, num_layers=nl, dropout=0.25*dropf)\n",
    "        self.out = nn.Linear(nh*2*3, vs)\n",
    "        self.out.weight.data.uniform_(-self.initrange, self.initrange)\n",
    "        self.pr_force = 1.\n",
    "        \n",
    "    def forward(self, inp, y=None):\n",
    "        #encode\n",
    "        c0,c1,x = inp\n",
    "        x = x.transpose(1,0)\n",
    "        sl,bs = x.size()\n",
    "        hidden = self.initHidden(bs) # nl*bs*nh\n",
    "        \n",
    "        emb1 = self.emb_enc_drop(self.emb_enc(c0)) #sl*bs*em_sz\n",
    "        _, hidden = self.gru_enc(emb1,hidden) #enc_out: sl*bs*nh, hidden: (2*nl)*bs*nh\n",
    "        h1 = hidden.view(2,2,bs,-1).permute(0,2,1,3).contiguous().view(self.nl,bs,-1)\n",
    "        \n",
    "        emb2 = self.emb_enc_drop(self.emb_enc(x)) #sl*bs*em_sz\n",
    "        _, hidden = self.gru_enc(emb2,hidden) #enc_out: sl*bs*nh, hidden: (2*nl)*bs*nh\n",
    "        h2 = hidden.view(2,2,bs,-1).permute(0,2,1,3).contiguous().view(self.nl,bs,-1)\n",
    "        \n",
    "        emb3 = self.emb_enc_drop(self.emb_enc(c1)) #sl*bs*em_sz\n",
    "        _, hidden = self.gru_enc(emb3,hidden) #enc_out: sl*bs*nh, hidden: (2*nl)*bs*nh\n",
    "        h3 = hidden.view(2,2,bs,-1).permute(0,2,1,3).contiguous().view(self.nl,bs,-1)\n",
    "        \n",
    "        hidden = torch.cat([h1,h2,h3],2)\n",
    "        \n",
    "        mu,logvar = self.h2m(hidden.view(bs,-1)),self.h2log(hidden.view(bs,-1))\n",
    "        std = torch.exp(0.5 * logvar)\n",
    "        eps = V(torch.randn(mu.size())) #bs*latent_sz\n",
    "        z = eps * std + mu #bs*latent_sz\n",
    "        #decode\n",
    "        hidden = self.z2h(z)\n",
    "        #hidden = self.initHidden(bs).view(self.nl,bs,self.nh*2)\n",
    "        dec_seq = x.clone()\n",
    "        #word dropout\n",
    "        if self.wdrop > 0: \n",
    "            prob = V(torch.rand(dec_seq.size())) \n",
    "            prob[(dec_seq.data - stoi['xxbos']) * (dec_seq.data - stoi['xxpad']) == 0] = 1\n",
    "            dec_seq[prob < self.wdrop] = stoi['xxunk']\n",
    "        \n",
    "        res = []\n",
    "        dec_inp = V(torch.zeros(bs)+stoi['xxbos']).long()\n",
    "        \n",
    "        for i in range(sl):\n",
    "            dec_emb = self.emb_enc(dec_inp)\n",
    "            gru_inp = torch.cat([dec_emb,z], 1).unsqueeze(0)\n",
    "            outp, hidden = self.gru_dec(gru_inp, hidden) #output: sl*bs*(nh*nl*2), hidden: (nl*2)*bs*nh\n",
    "            #hidden = hidden.view(2,2,bs,-1).permute(0,2,1,3).contiguous().view(self.nl,bs,-1)\n",
    "            outp = self.out(self.out_drop(outp[0])) #bs*vs\n",
    "            res.append(outp)\n",
    "            if (random.random()>self.pr_force):\n",
    "                dec_inp = dec_seq[i]\n",
    "            else:\n",
    "                dec_inp = V(outp.data.max(1)[1])\n",
    "            if (dec_inp==1).all(): break\n",
    "        return torch.stack(res), mu, logvar, z\n",
    "    \n",
    "    def inference(self,z):\n",
    "        res =[]\n",
    "        bs,_ = z.size()\n",
    "        #samples = V(torch.zeros(MAX_LENGTH, bs).long())\n",
    "        #z = V(torch.randn([bs, self.latent_sz]))\n",
    "        hidden = self.z2h(z)\n",
    "        #hidden = h = V(torch.zeros(self.nl, bs, self.nh*2*3))\n",
    "        dec_inp = V(torch.zeros(bs)+stoi['xxbos']).long()\n",
    "        for i in range(MAX_LENGTH):\n",
    "            emb = self.emb_enc(dec_inp)\n",
    "            gru_inp = torch.cat([emb,z],1).unsqueeze(0)\n",
    "            outp, hidden = self.gru_dec(gru_inp, hidden)\n",
    "            \n",
    "            outp = self.out(outp[0])\n",
    "            res.append(outp)\n",
    "            #dec_inp = V(torch.topk(outp,1,-1)[1]).squeeze(1)\n",
    "            dec_inp = V(outp.data.max(1)[1])\n",
    "            outp = F.log_softmax(outp, dim=1)\n",
    "            outp = torch.multinomial(torch.exp(outp), 1)\n",
    "            #samples[i, :] = outp.view(-1).data\n",
    "            dec_inp = V(outp.view(-1))\n",
    "            if (dec_inp==1).all(): break\n",
    "        return torch.stack(res)\n",
    "    \n",
    "    def initHidden(self, bs):\n",
    "        h = V(torch.zeros(self.nl*2, bs, self.nh))\n",
    "        #if torch.cuda.is_available(): h = h\n",
    "        return h"
   ]
  },
  {
   "cell_type": "code",
   "execution_count": 152,
   "metadata": {},
   "outputs": [],
   "source": [
    "def kl_anneal_function(anneal_function, step, k, x0):\n",
    "    if anneal_function == 'logistic':\n",
    "        return float(1/(1+np.exp(-k*(step-x0))))\n",
    "    elif anneal_function == 'linear':\n",
    "        return min(1, step/x0)"
   ]
  },
  {
   "cell_type": "code",
   "execution_count": 153,
   "metadata": {},
   "outputs": [],
   "source": [
    "def vae_loss(input, target, kld_weight):\n",
    "    decoded, mu, logvar, z = input\n",
    "    sl, bs = target.size()\n",
    "    sl_in,bs_in,nc = decoded.size()\n",
    "    if sl>sl_in: decoded = F.pad(decoded, (0,0,0,0,0,sl-sl_in))\n",
    "    decoded = decoded[:sl]\n",
    "    #loss = seq2seq_loss(decoded, target)\n",
    "    loss = F.cross_entropy(decoded.view(-1,nc), target.contiguous().view(-1))\n",
    "    KL_loss = -0.5 * torch.sum(1 + logvar - mu.pow(2) - logvar.exp())\n",
    "    loss += KL_loss * kld_weight\n",
    "    return loss"
   ]
  },
  {
   "cell_type": "code",
   "execution_count": 154,
   "metadata": {},
   "outputs": [],
   "source": [
    "class VAEStepper(Stepper):\n",
    "    \n",
    "    def step(self, x, y, epoch, an_f='logistic',kld_start_inc=5):\n",
    "        xtra = []\n",
    "        #self.m.wdrop = 0.1 if epoch>4 else 0\n",
    "        self.m.pr_force = (10-epoch)*0.1 if epoch<10 else 0\n",
    "        y = y.transpose(1,0)\n",
    "        output = self.m(x, y)\n",
    "        if isinstance(output,tuple): output,*xtra = output\n",
    "        self.opt.zero_grad()\n",
    "        loss = raw_loss = self.crit([output]+xtra, y, self.m.kld_weight)\n",
    "        loss.backward()\n",
    "        if epoch > kld_start_inc:\n",
    "            self.m.kld_weight = kl_anneal_function(an_f,epoch,self.m.kld_weight,kld_start_inc)\n",
    "        if self.clip:   # Gradient clipping\n",
    "            nn.utils.clip_grad_norm_(trainable_params_(self.m), self.clip)\n",
    "        self.opt.step()\n",
    "        return raw_loss.data.item()\n",
    "    \n",
    "    def evaluate(self, x, y):\n",
    "        self.m.eval()\n",
    "        xtra = []\n",
    "        #x = x[0]\n",
    "        y = y.transpose(1,0)\n",
    "        output = self.m(x, y)\n",
    "        #decoded, m, l, z = output\n",
    "        if isinstance(output,tuple): output,*xtra = output\n",
    "#        loss = raw_loss = self.crit([output]+xtra,y, kld_weight)\n",
    "    \n",
    "        return output, self.crit([output]+xtra,y, self.m.kld_weight)"
   ]
  },
  {
   "cell_type": "code",
   "execution_count": 155,
   "metadata": {},
   "outputs": [
    {
     "name": "stdout",
     "output_type": "stream",
     "text": [
      "2488 ['em>.', 'fancys', '.(p', 'formd', 'lovd']\n"
     ]
    },
    {
     "data": {
      "text/plain": [
       "VAE(\n",
       "  (emb_enc): Embedding(20003, 300, padding_idx=1)\n",
       "  (emb_enc_drop): Dropout(p=0.15)\n",
       "  (gru_enc): GRU(300, 64, num_layers=2, dropout=0.25, bidirectional=True)\n",
       "  (out_drop): Dropout(p=0.35)\n",
       "  (h2m): Linear(in_features=768, out_features=16, bias=True)\n",
       "  (h2log): Linear(in_features=768, out_features=16, bias=True)\n",
       "  (z2h): Linear(in_features=16, out_features=768, bias=True)\n",
       "  (gru_dec): GRU(316, 384, num_layers=2, dropout=0.25)\n",
       "  (out): Linear(in_features=384, out_features=20003, bias=True)\n",
       ")"
      ]
     },
     "execution_count": 155,
     "metadata": {},
     "output_type": "execute_result"
    }
   ],
   "source": [
    "nh = 64\n",
    "nl = 2\n",
    "vs = len(itos)\n",
    "em_sz = int(dim_en_vec)\n",
    "#latent_sz = em_sz\n",
    "latent_sz = 16\n",
    "vae = VAE(vs,en_vecs,itos,em_sz,latent_sz,nh,nl=nl)\n",
    "vae.cuda()"
   ]
  },
  {
   "cell_type": "code",
   "execution_count": 156,
   "metadata": {},
   "outputs": [],
   "source": [
    "opt_fn = partial(optim.Adam, betas=(0.7, 0.8))"
   ]
  },
  {
   "cell_type": "code",
   "execution_count": 157,
   "metadata": {},
   "outputs": [],
   "source": [
    "learn = RNN_Learner(md, SingleModel(to_gpu(vae)), opt_fn=opt_fn)\n",
    "learn.crit = vae_loss"
   ]
  },
  {
   "cell_type": "code",
   "execution_count": 158,
   "metadata": {},
   "outputs": [
    {
     "data": {
      "application/vnd.jupyter.widget-view+json": {
       "model_id": "4449dcb57ed244fda29267eecc52f13b",
       "version_major": 2,
       "version_minor": 0
      },
      "text/plain": [
       "HBox(children=(IntProgress(value=0, description='Epoch', max=1), HTML(value='')))"
      ]
     },
     "metadata": {},
     "output_type": "display_data"
    },
    {
     "name": "stdout",
     "output_type": "stream",
     "text": [
      " 66%|██████▌   | 139/211 [00:34<00:18,  3.99it/s, loss=21.9]"
     ]
    },
    {
     "data": {
      "image/png": "[encoded data removed]",
      "text/plain": [
       "<Figure size 432x288 with 1 Axes>"
      ]
     },
     "metadata": {},
     "output_type": "display_data"
    }
   ],
   "source": [
    "learn.lr_find(stepper=VAEStepper)\n",
    "learn.sched.plot()"
   ]
  },
  {
   "cell_type": "code",
   "execution_count": 159,
   "metadata": {},
   "outputs": [],
   "source": [
    "lr=1e-3"
   ]
  },
  {
   "cell_type": "code",
   "execution_count": 160,
   "metadata": {
    "scrolled": true
   },
   "outputs": [
    {
     "data": {
      "application/vnd.jupyter.widget-view+json": {
       "model_id": "b7ad2d87d00c4ca5ae5141557776272e",
       "version_major": 2,
       "version_minor": 0
      },
      "text/plain": [
       "HBox(children=(IntProgress(value=0, description='Epoch', max=25), HTML(value='')))"
      ]
     },
     "metadata": {},
     "output_type": "display_data"
    },
    {
     "name": "stdout",
     "output_type": "stream",
     "text": [
      "epoch      trn_loss   val_loss                              \n",
      "    0      9.200713   9.145822  \n",
      "    1      9.16312    9.23193                               \n",
      "    2      8.730082   8.821178                              \n",
      "    3      6.104682   7.789285                              \n",
      "    4      3.669525   4.540858                              \n",
      "    5      2.826545   2.917815                              \n",
      "    6      2.497831   2.476858                              \n",
      "    7      2.26756    2.320552                              \n",
      "    8      2.171268   2.243575                              \n",
      "    9      2.134847   2.092973                              \n",
      "    10     2.061799   2.022212                              \n",
      "    11     2.049577   2.015715                              \n",
      "    12     2.005237   2.004862                              \n",
      "    13     1.95447    2.001663                              \n",
      "    14     1.995685   1.996094                              \n",
      "    15     1.94997    1.992944                              \n",
      "    16     1.976984   1.99242                               \n",
      "    17     1.909766   1.991216                              \n",
      "    18     1.93534    1.991062                              \n",
      "    19     1.912628   1.988981                              \n",
      "    20     1.864386   1.990721                              \n",
      "    21     1.897597   1.989054                              \n",
      "    22     1.873118   1.990678                              \n",
      "    23     1.897114   1.990494                              \n",
      "    24     1.87606    1.990868                              \n"
     ]
    },
    {
     "data": {
      "text/plain": [
       "[1.9908683440264534]"
      ]
     },
     "execution_count": 160,
     "metadata": {},
     "output_type": "execute_result"
    }
   ],
   "source": [
    "learn.fit(lr, 1, cycle_len=25, stepper=VAEStepper, use_clr=(32,10))"
   ]
  },
  {
   "cell_type": "code",
   "execution_count": 202,
   "metadata": {},
   "outputs": [],
   "source": [
    "learn.save('vae_metaphors')"
   ]
  },
  {
   "cell_type": "code",
   "execution_count": 203,
   "metadata": {},
   "outputs": [],
   "source": [
    "learn.load('vae_metaphors')"
   ]
  },
  {
   "cell_type": "code",
   "execution_count": 53,
   "metadata": {},
   "outputs": [
    {
     "data": {
      "application/vnd.jupyter.widget-view+json": {
       "model_id": "96a7dbc8beaf4f989152cb7e53bc31c6",
       "version_major": 2,
       "version_minor": 0
      },
      "text/plain": [
       "HBox(children=(IntProgress(value=0, description='Epoch', max=8), HTML(value='')))"
      ]
     },
     "metadata": {},
     "output_type": "display_data"
    },
    {
     "name": "stdout",
     "output_type": "stream",
     "text": [
      "epoch      trn_loss   val_loss                              \n",
      "    0      4.960727   5.174614  \n",
      "    1      4.278578   5.172833                              \n",
      "    2      4.844539   5.17032                               \n",
      "    3      4.416083   5.168694                              \n",
      "    4      4.287536   5.169852                              \n",
      "    5      4.149753   5.174025                              \n",
      "    6      4.161283   5.172613                              \n",
      "    7      4.239572   5.173017                              \n"
     ]
    },
    {
     "data": {
      "text/plain": [
       "[5.173016836298978]"
      ]
     },
     "execution_count": 53,
     "metadata": {},
     "output_type": "execute_result"
    }
   ],
   "source": [
    "learn.fit(lr/10, 1, cycle_len=8, stepper=VAEStepper, use_clr=(20,8))"
   ]
  },
  {
   "cell_type": "code",
   "execution_count": 194,
   "metadata": {},
   "outputs": [],
   "source": [
    "def produce_out(val_dl, model, interval=(0,10)):\n",
    "    \n",
    "    model.eval()\n",
    "    out = []\n",
    "    ds = next(iter(val_dl))\n",
    "    c0,c1,x,y = ds\n",
    "    y = y.transpose(1,0)\n",
    "    #x = x.transpose(1,0)\n",
    "    bs, sl = x.size()\n",
    "    model.wdrop=0\n",
    "    model.pr_force=1\n",
    "    #x = x.long()\n",
    "    #if use_cuda:\n",
    "    #    x = x.cuda()\n",
    "    decoded, mu, logvar, z = model((c0,c1,x))\n",
    "    #z = V(torch.randn((bs,model.latent_sz)))\n",
    "    probs = model.inference(z)\n",
    "    #preds = np.array(decoded.max(2)[1])\n",
    "    preds = np.array(probs.max(2)[1])\n",
    "    for i in range(interval[0], interval[-1]):\n",
    "        out.append([' '.join(itos[o] for o in c0[:,i] if o not in [1,2]), \\\n",
    "                    ' '.join(itos[o] for o in x[:,i] if o not in [1,2]), \\\n",
    "                    ' '.join(itos[o] for o in preds[:,i] if o not in [0,1,2]), \\\n",
    "                    ' '.join(itos[o] for o in c1[:,i] if o not in [1,2])])\n",
    "    return out,z"
   ]
  },
  {
   "cell_type": "code",
   "execution_count": 195,
   "metadata": {},
   "outputs": [],
   "source": [
    "MAX_LENGTH=100\n",
    "out,z = produce_out(trn_seq2seq_dl, learn.model)"
   ]
  },
  {
   "cell_type": "code",
   "execution_count": 196,
   "metadata": {},
   "outputs": [
    {
     "data": {
      "text/plain": [
       "'was the same impropriety in the same epithet bestowed upon richard iii . king of england , who , he says , was one of the best - made men of the age in which he lived : but here [ page 24 ] i must contradict the said buck , from my own knowledge . richard had , undoubtedly , one shoulder higher than the other , and his left arm was a little shrunk and contracted : but , notwithstanding the ungracious colours in which he has been drawn by the flatterers of the house of xxunk ,never wretched can may i]f minds wit oer have m]y i friendship empire pours body is wretch ! bliss my body monstrous may my like lockes art tree most love a those reason this t]he booby lifes motion the difference , though me novelty this annoyance , , hearts got xxunk i i if body , as in thy this then is need maythe least qualified subjects , and xxunk merit , his new xxunk concluded ( not without some shadow of reason ) that xxunk - xxunk being unknown to the prime minister , was a sort of negative presumption in favour of his character . this officer was accordingly [ page 28 ] placed at the head of an xxunk , and sent against the island of thin - quo , in the conquest of which he was to be supported by a squadron of xxunk already in those xxunk , under the command of the chief he - xxunk .'"
      ]
     },
     "execution_count": 196,
     "metadata": {},
     "output_type": "execute_result"
    }
   ],
   "source": [
    "out[2][0]+out[2][1]+out[2][-1]"
   ]
  },
  {
   "cell_type": "code",
   "execution_count": 197,
   "metadata": {},
   "outputs": [
    {
     "data": {
      "text/plain": [
       "'was the same impropriety in the same epithet bestowed upon richard iii . king of england , who , he says , was one of the best - made men of the age in which he lived : but here [ page 24 ] i must contradict the said buck , from my own knowledge . richard had , undoubtedly , one shoulder higher than the other , and his left arm was a little shrunk and contracted : but , notwithstanding the ungracious colours in which he has been drawn by the flatterers of the house of xxunk ,the the who , to thousand to to been , to much the , that had the same impression of had and mind were a as , and they were , , into to mind , of the soul , , the the thing , and the not be have to is the , that the soul is been the mind mind , we own own empire to , ,the least qualified subjects , and xxunk merit , his new xxunk concluded ( not without some shadow of reason ) that xxunk - xxunk being unknown to the prime minister , was a sort of negative presumption in favour of his character . this officer was accordingly [ page 28 ] placed at the head of an xxunk , and sent against the island of thin - quo , in the conquest of which he was to be supported by a squadron of xxunk already in those xxunk , under the command of the chief he - xxunk .'"
      ]
     },
     "execution_count": 197,
     "metadata": {},
     "output_type": "execute_result"
    }
   ],
   "source": [
    "out[2][0]+out[2][2]+out[2][-1]"
   ]
  },
  {
   "cell_type": "code",
   "execution_count": 198,
   "metadata": {},
   "outputs": [
    {
     "data": {
      "text/plain": [
       "('never wretched can may i]f minds wit oer have m]y i friendship empire pours body is wretch ! bliss my body monstrous may my like lockes art tree most love a those reason this t]he booby lifes motion the difference , though me novelty this annoyance , , hearts got xxunk i i if body , as in thy this then is need may',\n",
       " 'the the who , to thousand to to been , to much the , that had the same impression of had and mind were a as , and they were , , into to mind , of the soul , , the the thing , and the not be have to is the , that the soul is been the mind mind , we own own empire to , ,')"
      ]
     },
     "execution_count": 198,
     "metadata": {},
     "output_type": "execute_result"
    }
   ],
   "source": [
    "out[2][1], out[2][2]"
   ]
  },
  {
   "cell_type": "code",
   "execution_count": 199,
   "metadata": {},
   "outputs": [],
   "source": [
    "def interpolate(start, end, steps):\n",
    "\n",
    "    interpolation = np.zeros((start.shape[0], steps + 2))\n",
    "\n",
    "    for dim, (s,e) in enumerate(zip(start,end)):\n",
    "        interpolation[dim] = np.linspace(s,e,steps+2)\n",
    "\n",
    "    return interpolation.T"
   ]
  },
  {
   "cell_type": "code",
   "execution_count": 200,
   "metadata": {},
   "outputs": [],
   "source": [
    "z1 = torch.randn([latent_sz]).numpy()\n",
    "z2 = torch.randn([latent_sz]).numpy()\n",
    "z = V(torch.from_numpy(interpolate(start=z1, end=z2, steps=8)).float())\n",
    "samples = learn.model.inference(z)"
   ]
  },
  {
   "cell_type": "code",
   "execution_count": 117,
   "metadata": {},
   "outputs": [
    {
     "data": {
      "text/plain": [
       "torch.Size([50, 10, 20003])"
      ]
     },
     "execution_count": 117,
     "metadata": {},
     "output_type": "execute_result"
    }
   ],
   "source": [
    "samples.size()"
   ]
  },
  {
   "cell_type": "code",
   "execution_count": 201,
   "metadata": {},
   "outputs": [
    {
     "data": {
      "text/plain": [
       "['the me minds be mind , , , ,',\n",
       " 'the up the , the own , and he is impression with to and to be , and of a to be , thousand in in the heart and of - were , and',\n",
       " 'the the same of ideas , which , the be the to the , and the thing of the mind ,',\n",
       " ', the the , and it are the and the mind of the , and is is , to , it be . it it of is the more . to .',\n",
       " 'the the , , that the the , the - , the , much , and the same of the heart mind ,',\n",
       " 'the ! heart , in ,',\n",
       " 'much , , that , the impression , the mind little of , and the , , the and , and the the of and the the mind of the , longer , the the is the and be the the , that the the the - , , the of which is in the minds , and the , not , are , that man , which the mind are been been , and the into into the the the in image from the , . the .',\n",
       " 'had a the the of the a the same manner , ideas , had , he minds are , the , and , well in , , the mind , and , as , and own , the , the , and the it same of the . , is not by of the body , it the be - .',\n",
       " 'the , i the , the i , the , which and , and the mind are , the soul of the , is soul of the soul to be to be , , and mind , , the the , mind of and and the , and the the same , of the .',\n",
       " 'the the the the same of the , , the own , , the own , and mind of the the man , and , and , and the of , soul of the own . .']"
      ]
     },
     "execution_count": 201,
     "metadata": {},
     "output_type": "execute_result"
    }
   ],
   "source": [
    "samples = np.array(samples.max(2)[1])\n",
    "samples = samples.T\n",
    "[' '.join(itos[o] for o in sample if o not in [0,1,2]) for sample in samples]"
   ]
  },
  {
   "cell_type": "code",
   "execution_count": null,
   "metadata": {},
   "outputs": [],
   "source": []
  }
 ],
 "metadata": {
  "kernelspec": {
   "display_name": "Python 3",
   "language": "python",
   "name": "python3"
  },
  "language_info": {
   "codemirror_mode": {
    "name": "ipython",
    "version": 3
   },
   "file_extension": ".py",
   "mimetype": "text/x-python",
   "name": "python",
   "nbconvert_exporter": "python",
   "pygments_lexer": "ipython3",
   "version": "3.6.3"
  }
 },
 "nbformat": 4,
 "nbformat_minor": 2
}
